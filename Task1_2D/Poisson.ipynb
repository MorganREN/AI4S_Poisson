{
 "cells": [
  {
   "cell_type": "markdown",
   "metadata": {},
   "source": [
    "Consider the following Poisson equation with Dirichlet boundary condition over a bounded domain $\\Omega\\subset [-1, 1]^2$\n",
    "\\begin{equation}\n",
    "\\begin{cases}\n",
    "-\\Delta u(x) = f(x), & \\;\\text{in} \\;\\Omega,\\\\\n",
    "u(x) = g(x), & \\; \\text{on} \\; \\partial\\Omega, \n",
    "\\end{cases}\n",
    "\\end{equation}\n",
    "where $f, g$ are given functions. \n",
    "Denote $u(x;\\theta)$   the approximate NN solution with the set of parameters  $\\theta$  in the NN. The collection of all $u(x;\\theta)$ is used as the trial space."
   ]
  },
  {
   "cell_type": "markdown",
   "metadata": {},
   "source": [
    "## 1. Setup"
   ]
  },
  {
   "cell_type": "code",
   "execution_count": 18,
   "metadata": {},
   "outputs": [],
   "source": [
    "import torch\n",
    "from torch.autograd import Variable\n",
    "import torch.nn as nn\n",
    "import torch.nn.functional as F\n",
    "import torch.optim as optim\n",
    "from torch.optim.lr_scheduler import StepLR, MultiStepLR\n",
    "import numpy as np\n",
    "import matplotlib.pyplot as plt\n",
    "from math import *\n",
    "import time\n",
    "import copy\n",
    "import itertools\n",
    "from tqdm import *\n",
    "import seaborn as sns\n",
    "import matplotlib.pyplot as plt\n",
    "import pickle\n",
    "\n",
    "torch.set_default_tensor_type('torch.DoubleTensor')\n",
    "plt.style.use('seaborn-white')"
   ]
  },
  {
   "cell_type": "markdown",
   "metadata": {},
   "source": [
    "## 2. Hyperparameter"
   ]
  },
  {
   "cell_type": "code",
   "execution_count": 37,
   "metadata": {},
   "outputs": [],
   "source": [
    "dimension = 2\n",
    "input_width, layer_width, output_width = dimension, 30, 1\n",
    "\n",
    "repeat = 3  # Editable\n",
    "epoch = 20000  # Editable\n",
    "lr = 1e-4  # Editable\n",
    "data_size = 500  # Editable"
   ]
  },
  {
   "cell_type": "markdown",
   "metadata": {},
   "source": [
    "## 3. Neural Architecture"
   ]
  },
  {
   "cell_type": "code",
   "execution_count": 20,
   "metadata": {},
   "outputs": [],
   "source": [
    "# %%\n",
    "# activation function\n",
    "def activation(x):\n",
    "    return x * torch.sigmoid(x)\n",
    "# %%\n",
    "# build ResNet with one blocks\n",
    "class Net(torch.nn.Module):\n",
    "    def __init__(self,input_width,layer_width):\n",
    "        super(Net,self).__init__()\n",
    "        self.layer1 = torch.nn.Linear(input_width, layer_width)\n",
    "        self.layer2 = torch.nn.Linear(layer_width, layer_width)\n",
    "        self.layer3 = torch.nn.Linear(layer_width, layer_width)\n",
    "        self.layer4 = torch.nn.Linear(layer_width, 1)\n",
    "        self.initialize_weights()\n",
    "    def forward(self,x):\n",
    "        y = activation(self.layer1(x))\n",
    "        y = activation(self.layer3(activation(self.layer2(y)))) # residual block 1\n",
    "        output = self.layer4(y)\n",
    "        return output\n",
    "    def initialize_weights(self):\n",
    "        for m in self.modules():\n",
    "            if isinstance(m, nn.Linear):\n",
    "                nn.init.xavier_normal_(m.weight.data)\n",
    "                if m.bias is not None:\n",
    "                    m.bias.data.zero_()\n",
    "    def print_network(self):\n",
    "        num_params = 0\n",
    "        for param in self.parameters():\n",
    "            num_params += param.numel()\n",
    "        # print(self)\n",
    "        print('Total number of parameters: %d' % num_params)"
   ]
  },
  {
   "cell_type": "markdown",
   "metadata": {},
   "source": [
    "## 4. Training Setup"
   ]
  },
  {
   "cell_type": "markdown",
   "metadata": {},
   "source": [
    "### 4.1 Define the $f(x)$\n",
    "$$[-1,1]^2{\\ni }{\\vec x} {↦} f({\\vec x}) = -32π^2{∏}_{i=1}^2\\sin(4πx_i){∈}{\\mathbb R}$$"
   ]
  },
  {
   "cell_type": "code",
   "execution_count": 21,
   "metadata": {},
   "outputs": [],
   "source": [
    "def f(x, dimension):\n",
    "    temp = 1.0\n",
    "    for i in range(dimension):\n",
    "        temp = temp * torch.sin(4*pi*x[:, i])\n",
    "    u_temp = 1.0 * temp\n",
    "    f_temp = -32 * pi**2 * u_temp\n",
    "    return f_temp.reshape([x.size()[0], 1])"
   ]
  },
  {
   "cell_type": "markdown",
   "metadata": {},
   "source": [
    "### 4.2 Generate sample"
   ]
  },
  {
   "cell_type": "code",
   "execution_count": 22,
   "metadata": {},
   "outputs": [],
   "source": [
    "def generate_sample(data_size, dimension):\n",
    "    sample_temp = torch.rand(data_size, dimension)\n",
    "    sample = sample_temp * 2 - 1\n",
    "    return sample"
   ]
  },
  {
   "cell_type": "markdown",
   "metadata": {},
   "source": [
    "### 4.3 Build the Model\n",
    "\n",
    "\\begin{equation}\n",
    "model = u(x;\\theta) =  \\prod_{i = 1}^{d} (1-x_i) (1 + x_i) \\cdot NN(x;\\theta).\n",
    "\\end{equation}\n",
    "where $NN(x;\\theta)$ is a function represented by a neural network. "
   ]
  },
  {
   "cell_type": "markdown",
   "metadata": {},
   "source": []
  },
  {
   "cell_type": "code",
   "execution_count": 23,
   "metadata": {},
   "outputs": [],
   "source": [
    "def model(x):\n",
    "    x_temp = x\n",
    "    D_x_0 = torch.prod(1.0 - x_temp, axis=1).reshape([x.size()[0], 1])\n",
    "    D_x_1 = torch.prod(1.0 + x_temp, axis=1).reshape([x.size()[0], 1])\n",
    "    # scaling_factor = (1/5)**x.size()[1] # added scaling factor\n",
    "    # model_u_temp = (1/scaling_factor) * D_x_0 * D_x_1 * net(x)\n",
    "    model_u_temp = D_x_0 * D_x_1 * net(x)\n",
    "    return model_u_temp.reshape([x.size()[0], 1])"
   ]
  },
  {
   "cell_type": "markdown",
   "metadata": {},
   "source": [
    "### 4.4 Define Loss Function"
   ]
  },
  {
   "cell_type": "code",
   "execution_count": 24,
   "metadata": {},
   "outputs": [],
   "source": [
    "def loss_function_residual(x, dimension):\n",
    "    u_hat = model(x)\n",
    "    grad_u_hat = torch.autograd.grad(outputs=u_hat, inputs=x, grad_outputs=torch.ones(u_hat.shape), create_graph=True)\n",
    "    laplace_u = torch.zeros([len(grad_u_hat[0]), 1])\n",
    "    for index in range(dimension):\n",
    "        p_temp = grad_u_hat[0][:, index].reshape([len(grad_u_hat[0]), 1])\n",
    "        temp = torch.autograd.grad(outputs=p_temp, inputs=x, grad_outputs=torch.ones(p_temp.shape), create_graph=True, allow_unused = True)[0]  # dxx\n",
    "        laplace_u = temp[:, index].reshape([len(grad_u_hat[0]), 1]) + laplace_u\n",
    "        loss_residual = torch.sum((-laplace_u - f(x, dimension))**2) / len(x)\n",
    "    return loss_residual"
   ]
  },
  {
   "cell_type": "markdown",
   "metadata": {},
   "source": [
    "## 5. Doing the Training"
   ]
  },
  {
   "cell_type": "markdown",
   "metadata": {},
   "source": [
    "### 5.1 Generating training data"
   ]
  },
  {
   "cell_type": "code",
   "execution_count": 38,
   "metadata": {},
   "outputs": [
    {
     "name": "stdout",
     "output_type": "stream",
     "text": [
      " epoch = 0,loss = 25490.033623505282 \n",
      " epoch = 500,loss = 18072.64368952949 \n",
      " epoch = 1000,loss = 3682.836344882265 \n",
      " epoch = 1500,loss = 2353.4853437944794 \n",
      " epoch = 2000,loss = 1860.727821597808 \n",
      " epoch = 2500,loss = 1602.3035432086413 \n",
      " epoch = 3000,loss = 1403.314700773639 \n",
      " epoch = 3500,loss = 1261.538358844636 \n",
      " epoch = 4000,loss = 1102.8095745963676 \n",
      " epoch = 4500,loss = 981.740252110746 \n",
      " epoch = 5000,loss = 867.5802333538866 \n",
      " epoch = 5500,loss = 798.6778840833556 \n",
      " epoch = 6000,loss = 748.1647440468716 \n",
      " epoch = 6500,loss = 710.4259616617998 \n",
      " epoch = 7000,loss = 700.0003923529347 \n",
      " epoch = 7500,loss = 647.4514387319982 \n",
      " epoch = 8000,loss = 624.0616194243446 \n",
      " epoch = 8500,loss = 602.4315721622712 \n",
      " epoch = 9000,loss = 582.504454036505 \n",
      " epoch = 9500,loss = 564.0295294086387 \n",
      " epoch = 10000,loss = 546.2145601399425 \n",
      " epoch = 10500,loss = 529.2612474586708 \n",
      " epoch = 11000,loss = 513.3215262720887 \n",
      " epoch = 11500,loss = 498.36535870297536 \n",
      " epoch = 12000,loss = 489.4782601550738 \n",
      " epoch = 12500,loss = 491.7435840348506 \n",
      " epoch = 13000,loss = 464.72231117278903 \n",
      " epoch = 13500,loss = 450.89397081981934 \n",
      " epoch = 14000,loss = 434.726947301443 \n",
      " epoch = 14500,loss = 416.9446346665805 \n",
      " epoch = 15000,loss = 400.9258125442496 \n",
      " epoch = 15500,loss = 388.24786224475633 \n",
      " epoch = 16000,loss = 374.84064030097505 \n",
      " epoch = 16500,loss = 359.80626648090254 \n",
      " epoch = 17000,loss = 346.84255660671755 \n",
      " epoch = 17500,loss = 332.6909064293978 \n",
      " epoch = 18000,loss = 319.21586927689225 \n",
      " epoch = 18500,loss = 305.81377376127193 \n",
      " epoch = 19000,loss = 292.9661177994326 \n",
      " epoch = 19500,loss = 279.5218589284222 \n"
     ]
    }
   ],
   "source": [
    "net = Net(input_width, layer_width)\n",
    "optimizer = optim.Adam(net.parameters(), lr=0.001)\n",
    "loss_epoch = []\n",
    "x = generate_sample(data_size, input_width)\n",
    "x.requires_grad = True\n",
    "for i in range(epoch):\n",
    "    optimizer.zero_grad()\n",
    "    loss = loss_function_residual(x, input_width)\n",
    "    loss.backward()\n",
    "    optimizer.step()\n",
    "    torch.cuda.empty_cache()\n",
    "    if i % 500 == 0:\n",
    "        print(\" epoch = {},loss = {} \".format(i, loss))\n",
    "    loss_epoch.append(float(loss))\n",
    "    # error_epoch.append(float(test_sample_fractional_error))\n"
   ]
  },
  {
   "cell_type": "markdown",
   "metadata": {},
   "source": []
  },
  {
   "cell_type": "markdown",
   "metadata": {},
   "source": [
    "## 6. Ploting the Heatmap"
   ]
  },
  {
   "cell_type": "code",
   "execution_count": 39,
   "metadata": {},
   "outputs": [],
   "source": [
    "# Test data\n",
    "test_data = torch.zeros((101, 101, 2))\n",
    "for i in range(101):\n",
    "    for j in range(101):\n",
    "        test_data[i, j, :] = torch.tensor([i/50-1, j/50-1])\n",
    "test_data = test_data.reshape(101*101, 2)\n",
    "\n",
    "u_hat = model(test_data)\n",
    "u_hat = u_hat.reshape(101, 101)\n",
    "u_hat = u_hat.detach().numpy()"
   ]
  },
  {
   "cell_type": "code",
   "execution_count": 40,
   "metadata": {},
   "outputs": [
    {
     "data": {
      "image/png": "[encoded data removed]",
      "text/plain": [
       "<Figure size 864x720 with 2 Axes>"
      ]
     },
     "metadata": {},
     "output_type": "display_data"
    }
   ],
   "source": [
    "import seaborn as sns\n",
    "sns.set(rc={'figure.figsize':(12,10)})\n",
    "\n",
    "# plot the heatmap of u_hat\n",
    "ax = sns.heatmap(u_hat, cmap=\"rainbow\")\n",
    "ax.invert_yaxis()\n",
    "plt.show()\n"
   ]
  },
  {
   "cell_type": "code",
   "execution_count": null,
   "metadata": {},
   "outputs": [],
   "source": []
  }
 ],
 "metadata": {
  "kernelspec": {
   "display_name": "base",
   "language": "python",
   "name": "python3"
  },
  "language_info": {
   "codemirror_mode": {
    "name": "ipython",
    "version": 3
   },
   "file_extension": ".py",
   "mimetype": "text/x-python",
   "name": "python",
   "nbconvert_exporter": "python",
   "pygments_lexer": "ipython3",
   "version": "3.8.5"
  },
  "orig_nbformat": 4
 },
 "nbformat": 4,
 "nbformat_minor": 2
}
